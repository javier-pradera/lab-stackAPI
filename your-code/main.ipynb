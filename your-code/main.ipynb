{
 "cells": [
  {
   "cell_type": "markdown",
   "metadata": {},
   "source": [
    "# StackAPI\n",
    "\n",
    "#### Import the necessary libraries here:"
   ]
  },
  {
   "cell_type": "code",
   "execution_count": 2,
   "metadata": {},
   "outputs": [],
   "source": [
    "# your code here\n",
    "from stackapi import StackAPI\n",
    "import time\n",
    "import datetime\n",
    "import pandas as pd"
   ]
  },
  {
   "cell_type": "markdown",
   "metadata": {},
   "source": [
    "#### Question 1: Find the questions and answers of last month."
   ]
  },
  {
   "cell_type": "code",
   "execution_count": 8,
   "metadata": {},
   "outputs": [],
   "source": [
    "# your code here\n",
    "SITE = StackAPI('stackoverflow')\n",
    "date1 = '07/06/2020'\n",
    "date2 = '07/07/2020'\n",
    "ts1 = time.mktime(time.strptime(date1, \"%d/%m/%Y\"))\n",
    "ts2 = time.mktime(time.strptime(date2, \"%d/%m/%Y\"))\n",
    "questions = SITE.fetch('questions',fromdate = 1591480800,todate = 1594072800)\n",
    "answers = SITE.fetch('answers',fromdate = 1591480800,todate = 1594072800)"
   ]
  },
  {
   "cell_type": "code",
   "execution_count": 54,
   "metadata": {},
   "outputs": [
    {
     "data": {
      "text/html": [
       "<div>\n",
       "<style scoped>\n",
       "    .dataframe tbody tr th:only-of-type {\n",
       "        vertical-align: middle;\n",
       "    }\n",
       "\n",
       "    .dataframe tbody tr th {\n",
       "        vertical-align: top;\n",
       "    }\n",
       "\n",
       "    .dataframe thead th {\n",
       "        text-align: right;\n",
       "    }\n",
       "</style>\n",
       "<table border=\"1\" class=\"dataframe\">\n",
       "  <thead>\n",
       "    <tr style=\"text-align: right;\">\n",
       "      <th></th>\n",
       "      <th>backoff</th>\n",
       "      <th>has_more</th>\n",
       "      <th>page</th>\n",
       "      <th>quota_max</th>\n",
       "      <th>quota_remaining</th>\n",
       "      <th>total</th>\n",
       "      <th>items</th>\n",
       "    </tr>\n",
       "  </thead>\n",
       "  <tbody>\n",
       "    <tr>\n",
       "      <th>0</th>\n",
       "      <td>0</td>\n",
       "      <td>True</td>\n",
       "      <td>5</td>\n",
       "      <td>300</td>\n",
       "      <td>300</td>\n",
       "      <td>0</td>\n",
       "      <td>{'owner': {'reputation': 3082, 'user_id': 4553...</td>\n",
       "    </tr>\n",
       "    <tr>\n",
       "      <th>1</th>\n",
       "      <td>0</td>\n",
       "      <td>True</td>\n",
       "      <td>5</td>\n",
       "      <td>300</td>\n",
       "      <td>300</td>\n",
       "      <td>0</td>\n",
       "      <td>{'owner': {'reputation': 375, 'user_id': 41851...</td>\n",
       "    </tr>\n",
       "    <tr>\n",
       "      <th>2</th>\n",
       "      <td>0</td>\n",
       "      <td>True</td>\n",
       "      <td>5</td>\n",
       "      <td>300</td>\n",
       "      <td>300</td>\n",
       "      <td>0</td>\n",
       "      <td>{'owner': {'reputation': 415, 'user_id': 34865...</td>\n",
       "    </tr>\n",
       "    <tr>\n",
       "      <th>3</th>\n",
       "      <td>0</td>\n",
       "      <td>True</td>\n",
       "      <td>5</td>\n",
       "      <td>300</td>\n",
       "      <td>300</td>\n",
       "      <td>0</td>\n",
       "      <td>{'owner': {'reputation': 375, 'user_id': 41851...</td>\n",
       "    </tr>\n",
       "    <tr>\n",
       "      <th>4</th>\n",
       "      <td>0</td>\n",
       "      <td>True</td>\n",
       "      <td>5</td>\n",
       "      <td>300</td>\n",
       "      <td>300</td>\n",
       "      <td>0</td>\n",
       "      <td>{'owner': {'reputation': 6312, 'user_id': 7062...</td>\n",
       "    </tr>\n",
       "  </tbody>\n",
       "</table>\n",
       "</div>"
      ],
      "text/plain": [
       "   backoff  has_more  page  quota_max  quota_remaining  total  \\\n",
       "0        0      True     5        300              300      0   \n",
       "1        0      True     5        300              300      0   \n",
       "2        0      True     5        300              300      0   \n",
       "3        0      True     5        300              300      0   \n",
       "4        0      True     5        300              300      0   \n",
       "\n",
       "                                               items  \n",
       "0  {'owner': {'reputation': 3082, 'user_id': 4553...  \n",
       "1  {'owner': {'reputation': 375, 'user_id': 41851...  \n",
       "2  {'owner': {'reputation': 415, 'user_id': 34865...  \n",
       "3  {'owner': {'reputation': 375, 'user_id': 41851...  \n",
       "4  {'owner': {'reputation': 6312, 'user_id': 7062...  "
      ]
     },
     "execution_count": 54,
     "metadata": {},
     "output_type": "execute_result"
    }
   ],
   "source": [
    "questions_df = pd.DataFrame(questions)['items']\n",
    "answers_df = pd.DataFrame(answers)\n",
    "answers_df.head()"
   ]
  },
  {
   "cell_type": "markdown",
   "metadata": {},
   "source": [
    "#### Question 2: Find the most voted question today with at least a score of 5 and tagged with 'python'. "
   ]
  },
  {
   "cell_type": "code",
   "execution_count": 16,
   "metadata": {},
   "outputs": [],
   "source": [
    "# your code here\n",
    "questions_today = SITE.fetch('questions',fromdate = 1594072800,sort='votes')"
   ]
  },
  {
   "cell_type": "code",
   "execution_count": 50,
   "metadata": {},
   "outputs": [
    {
     "data": {
      "text/plain": [
       "backoff                                                               10\n",
       "has_more                                                            True\n",
       "page                                                                   5\n",
       "quota_max                                                            300\n",
       "quota_remaining                                                      300\n",
       "total                                                                  0\n",
       "tags                                          [reactjs, react-bootstrap]\n",
       "is_answered                                                         True\n",
       "view_count                                                          1182\n",
       "accepted_answer_id                                           6.27671e+07\n",
       "answer_count                                                           2\n",
       "score                                                                 10\n",
       "last_activity_date                                            1594127506\n",
       "creation_date                                                 1594083724\n",
       "last_edit_date                                               1.59413e+09\n",
       "question_id                                                     62766601\n",
       "content_license                                             CC BY-SA 4.0\n",
       "link                   https://stackoverflow.com/questions/62766601/r...\n",
       "title                  React Bootstrap error: &#39;AccordionCollapseP...\n",
       "owner.reputation                                                     442\n",
       "owner.user_id                                                    8974849\n",
       "owner.user_type                                               registered\n",
       "owner.profile_image    https://www.gravatar.com/avatar/0a88b3d9f5739e...\n",
       "owner.display_name                                                   VP9\n",
       "owner.link                   https://stackoverflow.com/users/8974849/vp9\n",
       "owner.accept_rate                                                    NaN\n",
       "closed_date                                                          NaN\n",
       "closed_reason                                                        NaN\n",
       "Name: 0, dtype: object"
      ]
     },
     "execution_count": 50,
     "metadata": {},
     "output_type": "execute_result"
    }
   ],
   "source": [
    "#The most voted question with a score higher than or equal to 5:\n",
    "questions_today_df = pd.DataFrame(questions_today)\n",
    "questions_today_df = pd.concat([questions_today_df.drop(['items'], axis=1), pd.json_normalize(questions_today_df['items'])],axis=1)\n",
    "questions_today_df[questions_today_df['score'] >= 5].loc[0,:]"
   ]
  },
  {
   "cell_type": "markdown",
   "metadata": {},
   "source": [
    "#### Question 3: Find the answers with id 6784 and 6473."
   ]
  },
  {
   "cell_type": "code",
   "execution_count": 55,
   "metadata": {},
   "outputs": [],
   "source": [
    "# your code here\n",
    "answers = SITE.fetch('answers',ids = [6784,6473])"
   ]
  },
  {
   "cell_type": "code",
   "execution_count": 56,
   "metadata": {},
   "outputs": [
    {
     "data": {
      "text/html": [
       "<div>\n",
       "<style scoped>\n",
       "    .dataframe tbody tr th:only-of-type {\n",
       "        vertical-align: middle;\n",
       "    }\n",
       "\n",
       "    .dataframe tbody tr th {\n",
       "        vertical-align: top;\n",
       "    }\n",
       "\n",
       "    .dataframe thead th {\n",
       "        text-align: right;\n",
       "    }\n",
       "</style>\n",
       "<table border=\"1\" class=\"dataframe\">\n",
       "  <thead>\n",
       "    <tr style=\"text-align: right;\">\n",
       "      <th></th>\n",
       "      <th>backoff</th>\n",
       "      <th>has_more</th>\n",
       "      <th>page</th>\n",
       "      <th>quota_max</th>\n",
       "      <th>quota_remaining</th>\n",
       "      <th>total</th>\n",
       "      <th>items</th>\n",
       "    </tr>\n",
       "  </thead>\n",
       "  <tbody>\n",
       "    <tr>\n",
       "      <th>0</th>\n",
       "      <td>0</td>\n",
       "      <td>False</td>\n",
       "      <td>1</td>\n",
       "      <td>300</td>\n",
       "      <td>300</td>\n",
       "      <td>0</td>\n",
       "      <td>{'owner': {'reputation': 28885, 'user_id': 758...</td>\n",
       "    </tr>\n",
       "  </tbody>\n",
       "</table>\n",
       "</div>"
      ],
      "text/plain": [
       "   backoff  has_more  page  quota_max  quota_remaining  total  \\\n",
       "0        0     False     1        300              300      0   \n",
       "\n",
       "                                               items  \n",
       "0  {'owner': {'reputation': 28885, 'user_id': 758...  "
      ]
     },
     "execution_count": 56,
     "metadata": {},
     "output_type": "execute_result"
    }
   ],
   "source": [
    "answers_df = pd.DataFrame(answers)\n",
    "answers_df.head()"
   ]
  },
  {
   "cell_type": "code",
   "execution_count": null,
   "metadata": {},
   "outputs": [],
   "source": []
  }
 ],
 "metadata": {
  "kernelspec": {
   "display_name": "Python 3",
   "language": "python",
   "name": "python3"
  },
  "language_info": {
   "codemirror_mode": {
    "name": "ipython",
    "version": 3
   },
   "file_extension": ".py",
   "mimetype": "text/x-python",
   "name": "python",
   "nbconvert_exporter": "python",
   "pygments_lexer": "ipython3",
   "version": "3.7.7"
  }
 },
 "nbformat": 4,
 "nbformat_minor": 2
}
